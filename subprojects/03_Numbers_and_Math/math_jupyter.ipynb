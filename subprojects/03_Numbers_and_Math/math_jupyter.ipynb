{
 "cells": [
  {
   "cell_type": "code",
   "execution_count": null,
   "id": "4b919725-9d8f-489a-b508-90f5030067ce",
   "metadata": {},
   "outputs": [],
   "source": [
    "#this file is the same as math.py from this directory (almost!), but I want to add something else to the cell"
   ]
  },
  {
   "cell_type": "code",
   "execution_count": null,
   "id": "c06484dd-8955-4f8d-8ddf-94d9eaed9c38",
   "metadata": {},
   "outputs": [],
   "source": [
    "print(\"I will now count my chickens:\")\n",
    "print(\"Hens\", 25 + 30 / 6)\n",
    "print(\"Roosters\", 100 - 25 * 3 % 7)\n",
    "\n",
    "print(\"Now I will count the eggs:\")\n",
    "\n",
    "print(3 + 2 + 1 - 5 + 4 % 2 - 1 / 4 + 6)\n",
    "\n",
    "print(\"Is it true that 3 + 2 < 5 - 7?\")\n",
    "\n",
    "print(3 + 2 < 5 - 7)\n",
    "\n",
    "print(\"What is 3 + 2?\", 3 + 2)\n",
    "print(\"What is 5 - 7?\", 5 - 7)\n",
    "\n",
    "print(\"Oh, that's why it's False.\")\n",
    "\n",
    "print(\"How about some more.\")\n",
    "\n",
    "print(\"Is it greater?\", 5 > -2)\n",
    "print(\"Is it greater or equal?\", 5 >= -2)\n",
    "print(\"Is it less or equal?\", 5 <= -2)"
   ]
  },
  {
   "cell_type": "code",
   "execution_count": null,
   "id": "a50995ba-012d-4a20-a0c5-31aa7f199816",
   "metadata": {},
   "outputs": [],
   "source": [
    "3+12"
   ]
  },
  {
   "cell_type": "code",
   "execution_count": null,
   "id": "22a21e4e-3954-4a6a-894e-b7b33384534b",
   "metadata": {},
   "outputs": [],
   "source": [
    "print(3+12)"
   ]
  }
 ],
 "metadata": {
  "kernelspec": {
   "display_name": "Python 3 (ipykernel)",
   "language": "python",
   "name": "python3"
  },
  "language_info": {
   "name": ""
  }
 },
 "nbformat": 4,
 "nbformat_minor": 5
}
