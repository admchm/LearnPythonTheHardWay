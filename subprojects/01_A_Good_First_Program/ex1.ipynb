{
 "cells": [
  {
   "cell_type": "code",
   "execution_count": 1,
   "id": "3ee06f6a-6f21-47ee-a46e-2c7d9718093d",
   "metadata": {},
   "outputs": [
    {
     "name": "stdout",
     "output_type": "stream",
     "text": [
      "Hello world!\n",
      "Hello again\n",
      "I like typing this.\n",
      "This is fun.\n",
      "Yay! Printing.\n",
      "I'd much rather you 'not'.\n",
      "I \"said\" do not touch this.\n"
     ]
    }
   ],
   "source": [
    "print(\"Hello world!\")\n",
    "print(\"Hello again\")\n",
    "print(\"I like typing this.\")\n",
    "print(\"This is fun.\")\n",
    "print('Yay! Printing.')\n",
    "print(\"I'd much rather you 'not'.\")\n",
    "print('I \"said\" do not touch this.')"
   ]
  },
  {
   "cell_type": "code",
   "execution_count": 2,
   "id": "9da31b5b-c497-48fd-b514-1f07abb29ce5",
   "metadata": {},
   "outputs": [
    {
     "name": "stdout",
     "output_type": "stream",
     "text": [
      "Hello world!\n",
      "Hello again\n",
      "I like typing this.\n",
      "This is fun.\n",
      "Yay! Printing.\n",
      "I'd much rather you 'not'.\n",
      "I \"said\" do not touch this.\n"
     ]
    }
   ],
   "source": [
    "print(\"Hello world!\")\n",
    "print(\"Hello again\")\n",
    "print(\"I like typing this.\")\n",
    "print(\"This is fun.\")\n",
    "print('Yay! Printing.')\n",
    "print(\"I'd much rather you 'not'.\")\n",
    "print('I \"said\" do not touch this.')"
   ]
  },
  {
   "cell_type": "code",
   "execution_count": 3,
   "id": "9acf0a33-9acb-4cce-82fa-cb3fa164f6cd",
   "metadata": {},
   "outputs": [
    {
     "name": "stdout",
     "output_type": "stream",
     "text": [
      "Hello world!\n",
      "Yay! Printing.\n",
      "I'm going to print another line.\n"
     ]
    }
   ],
   "source": [
    "print(\"Hello world!\")\n",
    "#print(\"Hello again\")\n",
    "#print(\"I like typing this.\")\n",
    "#print(\"This is fun.\")\n",
    "print('Yay! Printing.')\n",
    "#print(\"I'd much rather you 'not'.\")\n",
    "#print('I \"said\" do not touch this.')\n",
    "print(\"I'm going to print another line.\")"
   ]
  },
  {
   "cell_type": "code",
   "execution_count": null,
   "id": "8b8b6abc-50ae-4d10-bafe-e1d4386322cf",
   "metadata": {},
   "outputs": [],
   "source": []
  }
 ],
 "metadata": {
  "kernelspec": {
   "display_name": "Python 3 (ipykernel)",
   "language": "python",
   "name": "python3"
  },
  "language_info": {
   "codemirror_mode": {
    "name": "ipython",
    "version": 3
   },
   "file_extension": ".py",
   "mimetype": "text/x-python",
   "name": "python",
   "nbconvert_exporter": "python",
   "pygments_lexer": "ipython3",
   "version": "3.12.3"
  }
 },
 "nbformat": 4,
 "nbformat_minor": 5
}
